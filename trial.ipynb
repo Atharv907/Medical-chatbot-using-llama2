{
 "cells": [
  {
   "cell_type": "code",
   "execution_count": 4,
   "id": "98daefcb",
   "metadata": {},
   "outputs": [],
   "source": [
    "from langchain import PromptTemplate\n",
    "from langchain.chains import RetrievalQA\n",
    "from langchain.embeddings import HuggingFaceEmbeddings\n",
    "from langchain.vectorstores import Pinecone\n",
    "import pinecone\n",
    "from langchain.document_loaders import PyPDFLoader, DirectoryLoader\n",
    "from langchain.text_splitter import RecursiveCharacterTextSplitter\n",
    "from langchain.prompts import PromptTemplate\n",
    "from langchain.llms import CTransformers"
   ]
  },
  {
   "cell_type": "code",
   "execution_count": 5,
   "id": "553b11ec",
   "metadata": {},
   "outputs": [],
   "source": [
    "PINECONE_API_KEY = \"pcsk_hM7nZ_Hu8ZkWS7BwevU7sfPzXPVnJLHZkVP8fnhueDNLgruiMeD3MJbHxVoCj28D5LWha\"\n",
    "PINECONE_ENV = \"us-east-1\""
   ]
  },
  {
   "cell_type": "code",
   "execution_count": 7,
   "id": "400d5bd7",
   "metadata": {},
   "outputs": [],
   "source": [
    "#extracting text from pdf files\n",
    "def load_pdf(data):\n",
    "    loader = DirectoryLoader(data, glob=\"*.pdf\", Loder_cls=PyPDFLoader)\n",
    "\n",
    "    documents = loader.load()\n",
    "    return documents"
   ]
  },
  {
   "cell_type": "code",
   "execution_count": null,
   "id": "2009934a",
   "metadata": {},
   "outputs": [],
   "source": []
  }
 ],
 "metadata": {
  "kernelspec": {
   "display_name": "mchatbot",
   "language": "python",
   "name": "python3"
  },
  "language_info": {
   "codemirror_mode": {
    "name": "ipython",
    "version": 3
   },
   "file_extension": ".py",
   "mimetype": "text/x-python",
   "name": "python",
   "nbconvert_exporter": "python",
   "pygments_lexer": "ipython3",
   "version": "3.8.20"
  }
 },
 "nbformat": 4,
 "nbformat_minor": 5
}
